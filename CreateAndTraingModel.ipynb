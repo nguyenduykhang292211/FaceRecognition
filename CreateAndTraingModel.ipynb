{
  "nbformat": 4,
  "nbformat_minor": 0,
  "metadata": {
    "colab": {
      "provenance": []
    },
    "kernelspec": {
      "name": "python3",
      "display_name": "Python 3"
    },
    "language_info": {
      "name": "python"
    }
  },
  "cells": [
    {
      "cell_type": "code",
      "execution_count": 1,
      "metadata": {
        "colab": {
          "base_uri": "https://localhost:8080/"
        },
        "id": "zBqV7TlDO8pW",
        "outputId": "f2424a72-02e5-4929-d80e-8fd42f24ec1c"
      },
      "outputs": [
        {
          "output_type": "stream",
          "name": "stdout",
          "text": [
            "Mounted at /content/drive\n"
          ]
        }
      ],
      "source": [
        "from google.colab import drive\n",
        "drive.mount('/content/drive')"
      ]
    },
    {
      "cell_type": "code",
      "source": [
        "import keras\n",
        "import numpy as np\n",
        "import tensorflow as tf\n",
        "import keras\n",
        "from keras.models import Sequential\n",
        "from keras.layers import Conv2D,MaxPooling2D,Dense,Flatten,Dropout\n",
        "import matplotlib.pyplot as plt\n",
        "from tensorflow.keras.layers import BatchNormalization\n",
        "from tensorflow.keras.preprocessing import image\n",
        "from tensorflow.keras.preprocessing.image import ImageDataGenerator"
      ],
      "metadata": {
        "id": "a03S4a9YPDwy"
      },
      "execution_count": 2,
      "outputs": []
    },
    {
      "cell_type": "code",
      "source": [
        "train_dir=\"/content/drive/MyDrive/face/Faces/Face\"\n",
        "generator = ImageDataGenerator()\n",
        "train_ds = generator.flow_from_directory(train_dir,target_size=(224, 224),batch_size=32)\n",
        "classes = list(train_ds.class_indices.keys())"
      ],
      "metadata": {
        "colab": {
          "base_uri": "https://localhost:8080/"
        },
        "id": "b45PpvZdybYL",
        "outputId": "4085d5c3-d462-419a-8630-f042d0f0bb75"
      },
      "execution_count": 45,
      "outputs": [
        {
          "output_type": "stream",
          "name": "stdout",
          "text": [
            "Found 2562 images belonging to 31 classes.\n"
          ]
        }
      ]
    },
    {
      "cell_type": "code",
      "source": [
        "model = Sequential()\n",
        "model.add(Conv2D(32, kernel_size = (3, 3), activation='relu', input_shape=(224,224,3)))\n",
        "model.add(MaxPooling2D(pool_size=(2,2)))\n",
        "model.add(BatchNormalization())\n",
        "model.add(Conv2D(64, kernel_size=(3,3), activation='relu'))\n",
        "model.add(MaxPooling2D(pool_size=(2,2)))\n",
        "model.add(BatchNormalization())\n",
        "model.add(Conv2D(64, kernel_size=(3,3), activation='relu'))\n",
        "model.add(MaxPooling2D(pool_size=(2,2)))\n",
        "model.add(BatchNormalization())\n",
        "model.add(Conv2D(96, kernel_size=(3,3), activation='relu'))\n",
        "model.add(MaxPooling2D(pool_size=(2,2)))\n",
        "model.add(BatchNormalization())\n",
        "model.add(Conv2D(32, kernel_size=(3,3), activation='relu'))\n",
        "model.add(MaxPooling2D(pool_size=(2,2)))\n",
        "model.add(BatchNormalization())\n",
        "model.add(Dropout(0.2))\n",
        "model.add(Flatten())\n",
        "model.add(Dense(128, activation='relu'))\n",
        "#model.add(Dropout(0.3))\n",
        "model.add(Dense(len(classes),activation='softmax'))"
      ],
      "metadata": {
        "id": "_44317jmyjWn"
      },
      "execution_count": 46,
      "outputs": []
    },
    {
      "cell_type": "code",
      "source": [
        "model.compile(\n",
        "    loss = 'categorical_crossentropy',\n",
        "    optimizer = 'adam',\n",
        "    metrics = [\"accuracy\"])\n",
        "model.summary()"
      ],
      "metadata": {
        "colab": {
          "base_uri": "https://localhost:8080/"
        },
        "id": "rRpzxTKx5jOi",
        "outputId": "d5397cd2-cb4e-431b-ae22-8545a43d6133"
      },
      "execution_count": 47,
      "outputs": [
        {
          "output_type": "stream",
          "name": "stdout",
          "text": [
            "Model: \"sequential_2\"\n",
            "_________________________________________________________________\n",
            " Layer (type)                Output Shape              Param #   \n",
            "=================================================================\n",
            " conv2d_10 (Conv2D)          (None, 222, 222, 32)      896       \n",
            "                                                                 \n",
            " max_pooling2d_10 (MaxPoolin  (None, 111, 111, 32)     0         \n",
            " g2D)                                                            \n",
            "                                                                 \n",
            " batch_normalization_10 (Bat  (None, 111, 111, 32)     128       \n",
            " chNormalization)                                                \n",
            "                                                                 \n",
            " conv2d_11 (Conv2D)          (None, 109, 109, 64)      18496     \n",
            "                                                                 \n",
            " max_pooling2d_11 (MaxPoolin  (None, 54, 54, 64)       0         \n",
            " g2D)                                                            \n",
            "                                                                 \n",
            " batch_normalization_11 (Bat  (None, 54, 54, 64)       256       \n",
            " chNormalization)                                                \n",
            "                                                                 \n",
            " conv2d_12 (Conv2D)          (None, 52, 52, 64)        36928     \n",
            "                                                                 \n",
            " max_pooling2d_12 (MaxPoolin  (None, 26, 26, 64)       0         \n",
            " g2D)                                                            \n",
            "                                                                 \n",
            " batch_normalization_12 (Bat  (None, 26, 26, 64)       256       \n",
            " chNormalization)                                                \n",
            "                                                                 \n",
            " conv2d_13 (Conv2D)          (None, 24, 24, 96)        55392     \n",
            "                                                                 \n",
            " max_pooling2d_13 (MaxPoolin  (None, 12, 12, 96)       0         \n",
            " g2D)                                                            \n",
            "                                                                 \n",
            " batch_normalization_13 (Bat  (None, 12, 12, 96)       384       \n",
            " chNormalization)                                                \n",
            "                                                                 \n",
            " conv2d_14 (Conv2D)          (None, 10, 10, 32)        27680     \n",
            "                                                                 \n",
            " max_pooling2d_14 (MaxPoolin  (None, 5, 5, 32)         0         \n",
            " g2D)                                                            \n",
            "                                                                 \n",
            " batch_normalization_14 (Bat  (None, 5, 5, 32)         128       \n",
            " chNormalization)                                                \n",
            "                                                                 \n",
            " dropout_2 (Dropout)         (None, 5, 5, 32)          0         \n",
            "                                                                 \n",
            " flatten_2 (Flatten)         (None, 800)               0         \n",
            "                                                                 \n",
            " dense_4 (Dense)             (None, 128)               102528    \n",
            "                                                                 \n",
            " dense_5 (Dense)             (None, 31)                3999      \n",
            "                                                                 \n",
            "=================================================================\n",
            "Total params: 247,071\n",
            "Trainable params: 246,495\n",
            "Non-trainable params: 576\n",
            "_________________________________________________________________\n"
          ]
        }
      ]
    },
    {
      "cell_type": "code",
      "source": [
        "history = model.fit(train_ds,epochs= 20, batch_size=32)"
      ],
      "metadata": {
        "colab": {
          "base_uri": "https://localhost:8080/"
        },
        "id": "esFQCgI35ypG",
        "outputId": "b2ff3245-3800-4e7c-c609-32f9d5ec695b"
      },
      "execution_count": 48,
      "outputs": [
        {
          "output_type": "stream",
          "name": "stdout",
          "text": [
            "Epoch 1/20\n",
            "81/81 [==============================] - 565s 7s/step - loss: 3.1058 - accuracy: 0.1702\n",
            "Epoch 2/20\n",
            "81/81 [==============================] - 314s 4s/step - loss: 1.8996 - accuracy: 0.4532\n",
            "Epoch 3/20\n",
            "81/81 [==============================] - 314s 4s/step - loss: 1.3080 - accuracy: 0.6058\n",
            "Epoch 4/20\n",
            "81/81 [==============================] - 313s 4s/step - loss: 0.9393 - accuracy: 0.7135\n",
            "Epoch 5/20\n",
            "81/81 [==============================] - 315s 4s/step - loss: 0.7463 - accuracy: 0.7752\n",
            "Epoch 6/20\n",
            "81/81 [==============================] - 314s 4s/step - loss: 0.4179 - accuracy: 0.8821\n",
            "Epoch 7/20\n",
            "81/81 [==============================] - 313s 4s/step - loss: 0.2840 - accuracy: 0.9200\n",
            "Epoch 8/20\n",
            "81/81 [==============================] - 321s 4s/step - loss: 0.2627 - accuracy: 0.9274\n",
            "Epoch 9/20\n",
            "81/81 [==============================] - 315s 4s/step - loss: 0.1388 - accuracy: 0.9664\n",
            "Epoch 10/20\n",
            "81/81 [==============================] - 324s 4s/step - loss: 0.1055 - accuracy: 0.9742\n",
            "Epoch 11/20\n",
            "81/81 [==============================] - 316s 4s/step - loss: 0.1766 - accuracy: 0.9465\n",
            "Epoch 12/20\n",
            "81/81 [==============================] - 322s 4s/step - loss: 0.1475 - accuracy: 0.9575\n",
            "Epoch 13/20\n",
            "81/81 [==============================] - 317s 4s/step - loss: 0.1185 - accuracy: 0.9688\n",
            "Epoch 14/20\n",
            "81/81 [==============================] - 316s 4s/step - loss: 0.2342 - accuracy: 0.9239\n",
            "Epoch 15/20\n",
            "81/81 [==============================] - 313s 4s/step - loss: 0.0921 - accuracy: 0.9711\n",
            "Epoch 16/20\n",
            "81/81 [==============================] - 314s 4s/step - loss: 0.0475 - accuracy: 0.9914\n",
            "Epoch 17/20\n",
            "81/81 [==============================] - 319s 4s/step - loss: 0.0284 - accuracy: 0.9949\n",
            "Epoch 18/20\n",
            "81/81 [==============================] - 316s 4s/step - loss: 0.1214 - accuracy: 0.9692\n",
            "Epoch 19/20\n",
            "81/81 [==============================] - 316s 4s/step - loss: 0.1667 - accuracy: 0.9477\n",
            "Epoch 20/20\n",
            "81/81 [==============================] - 317s 4s/step - loss: 0.0669 - accuracy: 0.9801\n"
          ]
        }
      ]
    },
    {
      "cell_type": "code",
      "source": [
        "import pickle"
      ],
      "metadata": {
        "id": "POI6NFG1Tfk_"
      },
      "execution_count": 49,
      "outputs": []
    },
    {
      "cell_type": "code",
      "source": [
        "model.save(\"my_model.h5\")\n",
        "\n",
        "# Lưu history\n",
        "with open(\"history.pickle\", \"wb\") as f:\n",
        "    pickle.dump(history.history, f)"
      ],
      "metadata": {
        "id": "DvfoBKxXThUC"
      },
      "execution_count": 50,
      "outputs": []
    },
    {
      "cell_type": "code",
      "source": [
        "plt.plot(history.history['accuracy'])\n",
        "plt.plot(history.history['loss'])\n",
        "plt.xlabel('Time')\n",
        "plt.legend(['accuracy', 'loss'])\n",
        "plt.show()"
      ],
      "metadata": {
        "colab": {
          "base_uri": "https://localhost:8080/",
          "height": 449
        },
        "id": "MAkZnW9SZhnb",
        "outputId": "04da345f-2e12-457b-f330-cb11571a7c25"
      },
      "execution_count": 75,
      "outputs": [
        {
          "output_type": "display_data",
          "data": {
            "text/plain": [
              "<Figure size 640x480 with 1 Axes>"
            ],
            "image/png": "[encoded data removed]"
          },
          "metadata": {}
        }
      ]
    }
  ]
}